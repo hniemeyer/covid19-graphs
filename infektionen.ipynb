{
 "cells": [
  {
   "cell_type": "code",
   "execution_count": 6,
   "metadata": {
    "collapsed": true
   },
   "outputs": [],
   "source": [
    "import pandas as pd\n",
    "import requests\n",
    "import matplotlib.pyplot as plt\n",
    "import urllib.request\n",
    "plt.rcParams[\"figure.figsize\"] = (20,10)"
   ]
  },
  {
   "cell_type": "code",
   "execution_count": 7,
   "metadata": {
    "collapsed": true
   },
   "outputs": [],
   "source": [
    "data_url = 'https://pavelmayer.de/covid/risks/all-series.csv'"
   ]
  },
  {
   "cell_type": "code",
   "execution_count": 8,
   "metadata": {
    "collapsed": false
   },
   "outputs": [
    {
     "data": {
      "text/plain": [
       "('all-series.csv', <http.client.HTTPMessage at 0x1987b2acd68>)"
      ]
     },
     "execution_count": 8,
     "metadata": {},
     "output_type": "execute_result"
    }
   ],
   "source": [
    "urllib.request.urlretrieve(data_url, \"all-series.csv\")"
   ]
  },
  {
   "cell_type": "code",
   "execution_count": 9,
   "metadata": {
    "collapsed": false
   },
   "outputs": [],
   "source": [
    "df = pd.read_csv(\"all-series.csv\", sep=',')"
   ]
  },
  {
   "cell_type": "code",
   "execution_count": 10,
   "metadata": {
    "collapsed": false
   },
   "outputs": [
    {
     "data": {
      "text/plain": [
       "Index(['DatenstandTag', 'Datum', 'IdLandkreis', 'Landkreis', 'LandkreisTyp',\n",
       "       'IdBundesland', 'Bundesland', 'Flaeche', 'Einwohner',\n",
       "       'MeldeTag_AnzahlFallNeu',\n",
       "       ...\n",
       "       'Fallsterblichkeit_ProzentNeu_7TageSumme_7_Tage_davor',\n",
       "       'MeldeTag_Fallsterblichkeit_ProzentNeu_Gestern_7TageSumme',\n",
       "       'MeldeTag_Vor7Tagen_Fallsterblichkeit_ProzentNeu_Vor8Tagen_7TageSumme',\n",
       "       'DatenstandTag_Diff', 'AnzahlFallNeu_7TageSumme_Dropped',\n",
       "       'ProzentFallNeu_7TageSumme_Dropped', 'MeldeTag_InzidenzFallNeu_Trend',\n",
       "       'MeldeTag_InzidenzFallNeu_R',\n",
       "       'MeldeTag_InzidenzFallNeu_Prognose_4_Wochen',\n",
       "       'PublikationsdauerFallNeu_Min_Neg'],\n",
       "      dtype='object', length=132)"
      ]
     },
     "execution_count": 10,
     "metadata": {},
     "output_type": "execute_result"
    }
   ],
   "source": [
    "df.columns"
   ]
  },
  {
   "cell_type": "code",
   "execution_count": 14,
   "metadata": {
    "collapsed": false
   },
   "outputs": [],
   "source": [
    "df_ems = df[df.Landkreis == \"LK Emsland\"]"
   ]
  },
  {
   "cell_type": "code",
   "execution_count": null,
   "metadata": {
    "collapsed": true
   },
   "outputs": [],
   "source": []
  }
 ],
 "metadata": {
  "kernelspec": {
   "display_name": "Python 3",
   "language": "python",
   "name": "python3"
  },
  "language_info": {
   "codemirror_mode": {
    "name": "ipython",
    "version": 3
   },
   "file_extension": ".py",
   "mimetype": "text/x-python",
   "name": "python",
   "nbconvert_exporter": "python",
   "pygments_lexer": "ipython3",
   "version": "3.6.0"
  }
 },
 "nbformat": 4,
 "nbformat_minor": 2
}
