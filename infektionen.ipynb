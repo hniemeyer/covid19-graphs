{
 "cells": [
  {
   "cell_type": "code",
   "execution_count": 1,
   "metadata": {
    "collapsed": true
   },
   "outputs": [],
   "source": [
    "import pandas as pd\n",
    "import requests\n",
    "import matplotlib.pyplot as plt\n",
    "import urllib.request\n",
    "import pprint\n",
    "import os\n",
    "plt.rcParams[\"figure.figsize\"] = (20,10)"
   ]
  },
  {
   "cell_type": "code",
   "execution_count": 2,
   "metadata": {
    "collapsed": true
   },
   "outputs": [],
   "source": [
    "data_url = 'https://pavelmayer.de/covid/risks/all-series.csv'"
   ]
  },
  {
   "cell_type": "code",
   "execution_count": 3,
   "metadata": {
    "collapsed": false
   },
   "outputs": [
    {
     "name": "stdout",
     "output_type": "stream",
     "text": [
      "Deleting data.\n"
     ]
    },
    {
     "data": {
      "text/plain": [
       "('all-series.csv', <http.client.HTTPMessage at 0x2562aaa2b38>)"
      ]
     },
     "execution_count": 3,
     "metadata": {},
     "output_type": "execute_result"
    }
   ],
   "source": [
    "desired_filename = \"all-series.csv\"\n",
    "if os.path.exists(desired_filename):\n",
    "    print(\"Deleting data.\")\n",
    "    os.remove(desired_filename)\n",
    "urllib.request.urlretrieve(data_url, \"all-series.csv\")"
   ]
  },
  {
   "cell_type": "code",
   "execution_count": 8,
   "metadata": {
    "collapsed": false
   },
   "outputs": [],
   "source": [
    "df = pd.read_csv(\"all-series.csv\", sep=',')\n",
    "df[\"Datum\"] = pd.to_datetime(df.Datum)"
   ]
  },
  {
   "cell_type": "code",
   "execution_count": 9,
   "metadata": {
    "collapsed": false,
    "scrolled": true
   },
   "outputs": [
    {
     "name": "stdout",
     "output_type": "stream",
     "text": [
      "[   'DatenstandTag',\n",
      "    'Datum',\n",
      "    'IdLandkreis',\n",
      "    'Landkreis',\n",
      "    'LandkreisTyp',\n",
      "    'IdBundesland',\n",
      "    'Bundesland',\n",
      "    'Flaeche',\n",
      "    'Einwohner',\n",
      "    'MeldeTag_AnzahlFallNeu',\n",
      "    'MeldeTag_AnzahlFall',\n",
      "    'MeldeTag_AnzahlTodesfallNeu',\n",
      "    'MeldeTag_AnzahlTodesfall',\n",
      "    'MeldeTag_Vor7Tagen_AnzahlFallNeu',\n",
      "    'MeldeTag_Vor7Tagen_AnzahlFall',\n",
      "    'MeldeTag_Vor7Tagen_AnzahlTodesfallNeu',\n",
      "    'MeldeTag_Vor7Tagen_AnzahlTodesfall',\n",
      "    'AnzahlFall',\n",
      "    'AnzahlFallNeu',\n",
      "    'AnzahlTodesfall',\n",
      "    'AnzahlTodesfallNeu',\n",
      "    'AnzahlGenesen',\n",
      "    'AnzahlGenesenNeu',\n",
      "    'PublikationsdauerFallNeu_Min',\n",
      "    'PublikationsdauerFallNeu_Max',\n",
      "    'PublikationsdauerFallNeu_Schnitt',\n",
      "    'PublikationsdauerFallNeu_Median',\n",
      "    'PublikationsdauerFallNeu_StdAbw',\n",
      "    'PublikationsdauerFallNeu_Fallbasis',\n",
      "    'DatenstandTag_Max',\n",
      "    'MeldeTag_AnzahlFallNeu_Gestern',\n",
      "    'MeldeTag_AnzahlFall_Gestern',\n",
      "    'MeldeTag_AnzahlTodesfallNeu_Gestern',\n",
      "    'MeldeTag_AnzahlTodesfall_Gestern',\n",
      "    'MeldeTag_Vor7Tagen_AnzahlFallNeu_Vor8Tagen',\n",
      "    'MeldeTag_Vor7Tagen_AnzahlFall_Vor8Tagen',\n",
      "    'MeldeTag_Vor7Tagen_AnzahlTodesfallNeu_Vor8Tagen',\n",
      "    'MeldeTag_Vor7Tagen_AnzahlTodesfall_Vor8Tagen',\n",
      "    'MeldeTag_InzidenzFallNeu',\n",
      "    'MeldeTag_InzidenzFall',\n",
      "    'MeldeTag_InzidenzTodesfallNeu',\n",
      "    'MeldeTag_InzidenzTodesfall',\n",
      "    'MeldeTag_Vor7Tagen_InzidenzFallNeu',\n",
      "    'MeldeTag_Vor7Tagen_InzidenzFall',\n",
      "    'MeldeTag_Vor7Tagen_InzidenzTodesfallNeu',\n",
      "    'MeldeTag_Vor7Tagen_InzidenzTodesfall',\n",
      "    'InzidenzFall',\n",
      "    'InzidenzFallNeu',\n",
      "    'InzidenzTodesfall',\n",
      "    'InzidenzTodesfallNeu',\n",
      "    'MeldeTag_InzidenzFallNeu_Gestern',\n",
      "    'MeldeTag_InzidenzFall_Gestern',\n",
      "    'MeldeTag_InzidenzTodesfallNeu_Gestern',\n",
      "    'MeldeTag_InzidenzTodesfall_Gestern',\n",
      "    'MeldeTag_Vor7Tagen_InzidenzFallNeu_Vor8Tagen',\n",
      "    'MeldeTag_Vor7Tagen_InzidenzFall_Vor8Tagen',\n",
      "    'MeldeTag_Vor7Tagen_InzidenzTodesfallNeu_Vor8Tagen',\n",
      "    'MeldeTag_Vor7Tagen_InzidenzTodesfall_Vor8Tagen',\n",
      "    'MeldeTag_AnzahlFallNeu_7TageSumme',\n",
      "    'MeldeTag_AnzahlTodesfallNeu_7TageSumme',\n",
      "    'MeldeTag_Vor7Tagen_AnzahlFallNeu_7TageSumme',\n",
      "    'MeldeTag_Vor7Tagen_AnzahlTodesfallNeu_7TageSumme',\n",
      "    'AnzahlFallNeu_7TageSumme',\n",
      "    'AnzahlFallNeu_7TageSumme_Trend',\n",
      "    'AnzahlFallNeu_7TageSumme_R',\n",
      "    'AnzahlFallNeu_7TageSumme_Trend_Spezial',\n",
      "    'AnzahlFallNeu_7TageSumme_R_Spezial',\n",
      "    'AnzahlFallNeu_7TageSumme_7_Tage_davor',\n",
      "    'AnzahlTodesfallNeu_7TageSumme',\n",
      "    'AnzahlTodesfallNeu_7TageSumme_Trend',\n",
      "    'AnzahlTodesfallNeu_7TageSumme_R',\n",
      "    'AnzahlTodesfallNeu_7TageSumme_Trend_Spezial',\n",
      "    'AnzahlTodesfallNeu_7TageSumme_R_Spezial',\n",
      "    'AnzahlTodesfallNeu_7TageSumme_7_Tage_davor',\n",
      "    'AnzahlGenesenNeu_7TageSumme',\n",
      "    'AnzahlGenesenNeu_7TageSumme_Trend',\n",
      "    'AnzahlGenesenNeu_7TageSumme_R',\n",
      "    'AnzahlGenesenNeu_7TageSumme_Trend_Spezial',\n",
      "    'AnzahlGenesenNeu_7TageSumme_R_Spezial',\n",
      "    'MeldeTag_AnzahlFallNeu_Gestern_7TageSumme',\n",
      "    'MeldeTag_AnzahlTodesfallNeu_Gestern_7TageSumme',\n",
      "    'MeldeTag_Vor7Tagen_AnzahlFallNeu_Vor8Tagen_7TageSumme',\n",
      "    'MeldeTag_Vor7Tagen_AnzahlTodesfallNeu_Vor8Tagen_7TageSumme',\n",
      "    'MeldeTag_InzidenzFallNeu_7TageSumme',\n",
      "    'MeldeTag_InzidenzTodesfallNeu_7TageSumme',\n",
      "    'MeldeTag_Vor7Tagen_InzidenzFallNeu_7TageSumme',\n",
      "    'MeldeTag_Vor7Tagen_InzidenzTodesfallNeu_7TageSumme',\n",
      "    'InzidenzFallNeu_7TageSumme',\n",
      "    'InzidenzFallNeu_7TageSumme_Trend',\n",
      "    'InzidenzFallNeu_7TageSumme_R',\n",
      "    'InzidenzFallNeu_7TageSumme_Trend_Spezial',\n",
      "    'InzidenzFallNeu_7TageSumme_R_Spezial',\n",
      "    'InzidenzFallNeu_7TageSumme_7_Tage_davor',\n",
      "    'InzidenzFallNeu_Prognose_1_Wochen',\n",
      "    'InzidenzFallNeu_Prognose_2_Wochen',\n",
      "    'InzidenzFallNeu_Prognose_4_Wochen',\n",
      "    'InzidenzFallNeu_Prognose_8_Wochen',\n",
      "    'InzidenzFallNeu_Tage_bis_50',\n",
      "    'InzidenzFallNeu_Tage_bis_100',\n",
      "    'Kontaktrisiko',\n",
      "    'InzidenzTodesfallNeu_7TageSumme',\n",
      "    'InzidenzTodesfallNeu_7TageSumme_Trend',\n",
      "    'InzidenzTodesfallNeu_7TageSumme_R',\n",
      "    'InzidenzTodesfallNeu_7TageSumme_Trend_Spezial',\n",
      "    'InzidenzTodesfallNeu_7TageSumme_R_Spezial',\n",
      "    'InzidenzTodesfallNeu_7TageSumme_7_Tage_davor',\n",
      "    'MeldeTag_InzidenzFallNeu_Gestern_7TageSumme',\n",
      "    'MeldeTag_InzidenzTodesfallNeu_Gestern_7TageSumme',\n",
      "    'MeldeTag_Vor7Tagen_InzidenzFallNeu_Vor8Tagen_7TageSumme',\n",
      "    'MeldeTag_Vor7Tagen_InzidenzTodesfallNeu_Vor8Tagen_7TageSumme',\n",
      "    'MeldeTag_Fallsterblichkeit_Prozent',\n",
      "    'MeldeTag_Vor7Tagen_Fallsterblichkeit_Prozent',\n",
      "    'Fallsterblichkeit_Prozent',\n",
      "    'MeldeTag_Fallsterblichkeit_Prozent_Gestern',\n",
      "    'MeldeTag_Vor7Tagen_Fallsterblichkeit_Prozent_Vor8Tagen',\n",
      "    'MeldeTag_Fallsterblichkeit_ProzentNeu_7TageSumme',\n",
      "    'MeldeTag_Vor7Tagen_Fallsterblichkeit_ProzentNeu_7TageSumme',\n",
      "    'Fallsterblichkeit_ProzentNeu_7TageSumme',\n",
      "    'Fallsterblichkeit_ProzentNeu_7TageSumme_Trend',\n",
      "    'Fallsterblichkeit_ProzentNeu_7TageSumme_R',\n",
      "    'Fallsterblichkeit_ProzentNeu_7TageSumme_Trend_Spezial',\n",
      "    'Fallsterblichkeit_ProzentNeu_7TageSumme_R_Spezial',\n",
      "    'Fallsterblichkeit_ProzentNeu_7TageSumme_7_Tage_davor',\n",
      "    'MeldeTag_Fallsterblichkeit_ProzentNeu_Gestern_7TageSumme',\n",
      "    'MeldeTag_Vor7Tagen_Fallsterblichkeit_ProzentNeu_Vor8Tagen_7TageSumme',\n",
      "    'DatenstandTag_Diff',\n",
      "    'AnzahlFallNeu_7TageSumme_Dropped',\n",
      "    'ProzentFallNeu_7TageSumme_Dropped',\n",
      "    'MeldeTag_InzidenzFallNeu_Trend',\n",
      "    'MeldeTag_InzidenzFallNeu_R',\n",
      "    'MeldeTag_InzidenzFallNeu_Prognose_4_Wochen',\n",
      "    'PublikationsdauerFallNeu_Min_Neg']\n"
     ]
    }
   ],
   "source": [
    "pp = pprint.PrettyPrinter(indent=4)\n",
    "pp.pprint(df.columns.tolist())"
   ]
  },
  {
   "cell_type": "code",
   "execution_count": 32,
   "metadata": {
    "collapsed": false
   },
   "outputs": [],
   "source": [
    "df_ems = df[df.Landkreis == \"LK Emsland\"]"
   ]
  },
  {
   "cell_type": "code",
   "execution_count": null,
   "metadata": {
    "collapsed": true
   },
   "outputs": [],
   "source": []
  }
 ],
 "metadata": {
  "kernelspec": {
   "display_name": "Python 3",
   "language": "python",
   "name": "python3"
  },
  "language_info": {
   "codemirror_mode": {
    "name": "ipython",
    "version": 3
   },
   "file_extension": ".py",
   "mimetype": "text/x-python",
   "name": "python",
   "nbconvert_exporter": "python",
   "pygments_lexer": "ipython3",
   "version": "3.6.0"
  }
 },
 "nbformat": 4,
 "nbformat_minor": 2
}
